{
 "cells": [
  {
   "cell_type": "code",
   "execution_count": 11,
   "metadata": {},
   "outputs": [
    {
     "name": "stdout",
     "output_type": "stream",
     "text": [
      "[ 0.19203572  0.09574055  0.07949438  0.14067856 -0.1984556   0.03995232\n",
      " -0.02268148  0.34856447  0.12431361  0.32604243]\n",
      "[ 1.  1.  0.  0.  0.  1.  1.  1.  0.  1.  1.  1.  1.  1.  1.  1.  1.  0.\n",
      "  1.  1.  1.  1.  1.  1.  1.  1.  1.  1.  1.  1.  1.  1.  1.  1.  0.  1.\n",
      "  1.  1.  0.  1.  1.  1.  1.  1.  1.  1.  1.  1.  1.  1.  1.  1.  1.  1.\n",
      "  0.  1.  0.  1.  0.  1.  0.  0.  1.  1.  1.  1.  1.  1.  1.  1.  0.  1.\n",
      "  1.  1.  1.  1.  1.  1.  1.  1.  1.  1.  1.  1.  0.]\n"
     ]
    },
    {
     "data": {
      "image/png": "[encoded data removed]",
      "text/plain": [
       "<matplotlib.figure.Figure at 0x7f5e9434d5c0>"
      ]
     },
     "metadata": {},
     "output_type": "display_data"
    },
    {
     "name": "stdout",
     "output_type": "stream",
     "text": [
      "chocolate:0\n",
      "fruty: 1\n",
      "caramil: 0\n",
      "peaNUT:0\n",
      "nougat:1\n",
      "wafer: 0\n",
      "hard :0\n",
      "bar: 0\n",
      "pluribus: 0\n",
      "sugar: -2\n",
      "quality of new candy:  0.319776328486\n"
     ]
    }
   ],
   "source": [
    "import numpy as np\n",
    "import pandas as pd\n",
    "import matplotlib.pyplot as plt\n",
    "\n",
    "x=pd.read_csv(\"/home/hmohan/Desktop/ass-4/candy-data.csv\")\n",
    "x=np.asmatrix(x)\n",
    "x=np.array(x)\n",
    "N,D=np.shape(x)\n",
    "X=np.zeros((N,D-2))\n",
    "X[:,0:10]=x[:,1:11]\n",
    "Y=x[:,11]\n",
    "\n",
    "for i in range (len(X[:,9])):\n",
    "    if X[i,9]<0.45:\n",
    "        X[i,10]=0\n",
    "    elif 0.45<=X[i,9]<0.86 :\n",
    "        X[i,10]=1\n",
    "    elif X[i,9] >=0.86:\n",
    "        X[i,10]=-2\n",
    "X=np.array(X,dtype=float)\n",
    "Y=np.array(Y,dtype=float)\n",
    "X[:,10]=X[:,10]*100\n",
    "w=np.linalg.solve(np.dot(X[:,0:10].T,X[:,0:10]),np.dot(X[:,0:10].T,Y))\n",
    "X[:,[9,10]] = X[:,[10,9]]\n",
    "Y1=np.dot(X[:,:10],w)\n",
    "print(w)\n",
    "def sigmod(a):\n",
    "    return (1/(1+np.exp(-a)))\n",
    "Ys= sigmod(Y1)\n",
    "print (np.round(Ys))\n",
    "plt.scatter(np.sort(x[:,0].T),np.round(np.sort(Ys.T)))\n",
    "plt.plot(np.sort(x[:,0].T),np.sort(Ys.T))\n",
    "plt.show()\n",
    "#peanutyalmondy\tnougat\tcrispedricewafer\thard\tbar\tpluribus\tsugarpercent\n",
    "\n",
    "a= float(input(\"chocolate:\"))\n",
    "b=float(input(\"fruty: \"))\n",
    "c=float(input(\"caramil: \"))\n",
    "d= float(input(\"peaNUT:\"))\n",
    "E=float(input(\"nougat:\"))\n",
    "f = float(input(\"wafer: \"))\n",
    "g=float(input(\"hard :\"))\n",
    "i = float(input(\"bar: \"))\n",
    "j = float(input(\"pluribus: \"))\n",
    "k = float(input(\"sugar: \"))\n",
    "X=np.array((a,b,c,d,E,f,g,i,j,k))\n",
    "Y2=np.dot(X,w)\n",
    "print (\"quality of new candy: \",sigmod(Y2))"
   ]
  },
  {
   "cell_type": "code",
   "execution_count": null,
   "metadata": {
    "collapsed": true
   },
   "outputs": [],
   "source": []
  },
  {
   "cell_type": "code",
   "execution_count": null,
   "metadata": {
    "collapsed": true
   },
   "outputs": [],
   "source": []
  }
 ],
 "metadata": {
  "kernelspec": {
   "display_name": "Python 3",
   "language": "python",
   "name": "python3"
  },
  "language_info": {
   "codemirror_mode": {
    "name": "ipython",
    "version": 3
   },
   "file_extension": ".py",
   "mimetype": "text/x-python",
   "name": "python",
   "nbconvert_exporter": "python",
   "pygments_lexer": "ipython3",
   "version": "3.6.3"
  }
 },
 "nbformat": 4,
 "nbformat_minor": 2
}
