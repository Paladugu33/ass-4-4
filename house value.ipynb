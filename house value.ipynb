{
 "cells": [
  {
   "cell_type": "code",
   "execution_count": 14,
   "metadata": {},
   "outputs": [
    {
     "name": "stdout",
     "output_type": "stream",
     "text": [
      "average area income: 80000\n",
      "house old: 0\n",
      "number of rooms: 9\n",
      "bedrooms: 3\n",
      "Area population: 20000\n",
      "Estimated price of house is:  932954.221771\n"
     ]
    }
   ],
   "source": [
    "import numpy as np\n",
    "import pandas as pd\n",
    "import matplotlib.pyplot as plt\n",
    "\n",
    "a = pd.read_csv(\"/home/hmohan/Desktop/ass-4/USA_Housing.csv\")\n",
    "a=a.as_matrix() \n",
    "x=a[:5000,:5]\n",
    "y=a[:5000,5]\n",
    "x=np.array(x,dtype=int)\n",
    "y=np.array(y,dtype=int)\n",
    "w=np.linalg.solve(np.dot(x.T,x),np.dot(x.T,y))\n",
    "\n",
    "\n",
    "a=float(input(\"average area income: \"))\n",
    "b=float(input(\"house old: \"))\n",
    "c=float(input(\"number of rooms: \"))\n",
    "d=float(input(\"bedrooms: \"))\n",
    "e=float(input(\"Area population: \"))\n",
    "x=np.array([a,b,c,d,e])\n",
    "y2 = np.dot(x,w.T)\n",
    "print (\"Estimated price of house is: \",y2)"
   ]
  },
  {
   "cell_type": "code",
   "execution_count": null,
   "metadata": {
    "collapsed": true
   },
   "outputs": [],
   "source": []
  },
  {
   "cell_type": "code",
   "execution_count": null,
   "metadata": {
    "collapsed": true
   },
   "outputs": [],
   "source": []
  }
 ],
 "metadata": {
  "kernelspec": {
   "display_name": "Python 3",
   "language": "python",
   "name": "python3"
  },
  "language_info": {
   "codemirror_mode": {
    "name": "ipython",
    "version": 3
   },
   "file_extension": ".py",
   "mimetype": "text/x-python",
   "name": "python",
   "nbconvert_exporter": "python",
   "pygments_lexer": "ipython3",
   "version": "3.6.3"
  }
 },
 "nbformat": 4,
 "nbformat_minor": 2
}
