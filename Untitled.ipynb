{
 "cells": [
  {
   "cell_type": "code",
   "execution_count": 9,
   "metadata": {},
   "outputs": [
    {
     "name": "stdout",
     "output_type": "stream",
     "text": [
      "[  1.24994960e+01   1.29714153e+04   9.42950865e+00]\n",
      "[1265028.415049807 1409462.0944202547 1180381.4527156071 1157599.120161715\n",
      " 1053122.6243404904 1306785.5736020782 1426511.212091247 1355611.8782754508\n",
      " 1056008.5167881553 1481252.902080548]\n",
      "average area income: 70000\n",
      "house old: 0\n",
      "number of rooms: 45\n",
      "bedrooms: 45\n",
      "Area population: 45\n",
      "Estimated price of house is:  1459102.73518\n"
     ]
    }
   ],
   "source": [
    "import numpy as np\n",
    "import pandas as pd\n",
    "import matplotlib.pyplot as plt\n",
    "\n",
    "a = pd.read_csv(\"/home/hmohan/Desktop/ass-4/USA_Housing.csv\")\n",
    "#print(a.head())\n",
    "a=a.as_matrix() \n",
    "x=a[:5000,[0,3,4]]\n",
    "y=a[:5000,5]\n",
    "x=np.array(x,dtype=int)\n",
    "y=np.array(y,dtype=int)\n",
    "w=np.linalg.solve(np.dot(x.T,x),np.dot(x.T,y))\n",
    "print (w)\n",
    "#y1=np.dot(x,w)\n",
    "#print(\"This is our five values: \",y1)\n",
    "\n",
    "# lets train for last five values\n",
    "x=a[:10,[0,3,4]]\n",
    "y2=np.dot(x,w.T)\n",
    "print (y2)\n",
    "a=input(\"average area income: \")\n",
    "b=input(\"house old: \")\n",
    "c=input(\"number of rooms: \")\n",
    "d=input(\"bedrooms: \")\n",
    "e=input(\"Area population: \")\n",
    "x=np.array([a,d,e],dtype=float)\n",
    "y2 = np.dot(x,w.T)\n",
    "print (\"Estimated price of house is: \",y2)"
   ]
  },
  {
   "cell_type": "markdown",
   "metadata": {
    "collapsed": true
   },
   "source": []
  },
  {
   "cell_type": "code",
   "execution_count": 1,
   "metadata": {},
   "outputs": [
    {
     "name": "stdout",
     "output_type": "stream",
     "text": [
      "   Avg. Area Income  Avg. Area House Age  Avg. Area Number of Rooms  \\\n",
      "0      79545.458574             5.682861                   7.009188   \n",
      "1      79248.642455             6.002900                   6.730821   \n",
      "2      61287.067179             5.865890                   8.512727   \n",
      "3      63345.240046             7.188236                   5.586729   \n",
      "4      59982.197226             5.040555                   7.839388   \n",
      "\n",
      "   Avg. Area Number of Bedrooms  Area Population         Price  \\\n",
      "0                          4.09     23086.800503  1.059034e+06   \n",
      "1                          3.09     40173.072174  1.505891e+06   \n",
      "2                          5.13     36882.159400  1.058988e+06   \n",
      "3                          3.26     34310.242831  1.260617e+06   \n",
      "4                          4.23     26354.109472  6.309435e+05   \n",
      "\n",
      "                                             Address  \n",
      "0  208 Michael Ferry Apt. 674\\nLaurabury, NE 3701...  \n",
      "1  188 Johnson Views Suite 079\\nLake Kathleen, CA...  \n",
      "2  9127 Elizabeth Stravenue\\nDanieltown, WI 06482...  \n",
      "3                          USS Barnett\\nFPO AP 44820  \n",
      "4                         USNS Raymond\\nFPO AE 09386  \n",
      "[  1.24994960e+01   1.29714153e+04   9.42950865e+00]\n",
      "average area income: 80000\n",
      "house old: 4\n",
      "number of rooms: 23000\n",
      "bedrooms: 4\n",
      "Area population: 23000\n",
      "Estimated price of house is:  1268724.04032\n"
     ]
    }
   ],
   "source": [
    "import numpy as np\n",
    "import pandas as pd\n",
    "import matplotlib.pyplot as plt\n",
    "\n",
    "a = pd.read_csv(\"/home/hmohan/Desktop/ass-4/USA_Housing.csv\")\n",
    "print(a.head())\n",
    "a=a.as_matrix() \n",
    "x=a[:5000,[0,3,4]]\n",
    "y=a[:5000,5]\n",
    "x=np.array(x,dtype=int)\n",
    "y=np.array(y,dtype=int)\n",
    "w=np.linalg.solve(np.dot(x.T,x),np.dot(x.T,y))\n",
    "\n",
    "print(w)\n",
    "\n",
    "\n",
    "a=input(\"average area income: \")\n",
    "b=input(\"house old: \")\n",
    "c=input(\"number of rooms: \")\n",
    "d=input(\"bedrooms: \")\n",
    "e=input(\"Area population: \")\n",
    "x=np.array([a,d,e],dtype=float)\n",
    "y2 = np.dot(x,w.T)\n",
    "print (\"Estimated price of house is: \",y2)"
   ]
  },
  {
   "cell_type": "code",
   "execution_count": null,
   "metadata": {
    "collapsed": true
   },
   "outputs": [],
   "source": [
    "import numpy as np\n",
    "import pandas as pd\n",
    "import matplotlib.pyplot as plt\n",
    "\n",
    "a = pd.read_csv(\"/home/hmohan/Desktop/ass-4/USA_Housing.csv\")\n",
    "\n",
    "a=a.as_matrix() \n",
    "x=a[:5,:5]\n",
    "y=a[:5,5]\n",
    "x=np.array(x,dtype=int)\n",
    "y=np.array(y,dtype=int)\n",
    "w=np.linalg.solve(np.dot(x.T,x),np.dot(x.T,y))\n",
    "print (w)\n",
    "\n",
    "den = x.dot(x)-x.mean()*x.sum()\n",
    "a=(x.dot(y)-y.mean()*x.sum())/den\n",
    "b=(y.mean()*x.dot(x)-x.mean()*x.dot(y))/den\n",
    "\n",
    "y1=a*x+b\n",
    "plt.scatter(x,y)\n",
    "plt.plot(x,y1)\n",
    "plt.show()"
   ]
  },
  {
   "cell_type": "code",
   "execution_count": 1,
   "metadata": {
    "collapsed": true
   },
   "outputs": [],
   "source": [
    "import numpy as np"
   ]
  },
  {
   "cell_type": "code",
   "execution_count": 9,
   "metadata": {},
   "outputs": [
    {
     "name": "stdout",
     "output_type": "stream",
     "text": [
      "enter your string: '34'\n",
      "integer in string\n"
     ]
    }
   ],
   "source": [
    "string=eval(input(\"enter your string: \"))\n",
    "count=0\n",
    "if type(string) is int:\n",
    "\tprint ('it is integer')\n",
    "\tcount+=1\n",
    "elif type(string) is str:\n",
    "\tnew_str=string.split(' ')\n",
    "\tfor i in new_str:\n",
    "\t\tif i.isdigit():\n",
    "\t\t\tprint('integer in string')\n",
    "\t\t\tcount+=1\n",
    "\t\t\tbreak\n",
    "\t\telse:\n",
    "\t\t\tpass\n",
    "if count==0:\n",
    "\tprint('this is string')"
   ]
  },
  {
   "cell_type": "code",
   "execution_count": null,
   "metadata": {
    "collapsed": true
   },
   "outputs": [],
   "source": []
  },
  {
   "cell_type": "code",
   "execution_count": null,
   "metadata": {
    "collapsed": true
   },
   "outputs": [],
   "source": []
  }
 ],
 "metadata": {
  "kernelspec": {
   "display_name": "Python 3",
   "language": "python",
   "name": "python3"
  },
  "language_info": {
   "codemirror_mode": {
    "name": "ipython",
    "version": 3
   },
   "file_extension": ".py",
   "mimetype": "text/x-python",
   "name": "python",
   "nbconvert_exporter": "python",
   "pygments_lexer": "ipython3",
   "version": "3.6.3"
  }
 },
 "nbformat": 4,
 "nbformat_minor": 2
}
