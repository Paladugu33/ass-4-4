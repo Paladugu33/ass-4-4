{
 "cells": [
  {
   "cell_type": "code",
   "execution_count": 7,
   "metadata": {},
   "outputs": [
    {
     "name": "stdout",
     "output_type": "stream",
     "text": [
      "[ 0.19203572  0.09574055  0.07949438  0.14067856 -0.1984556   0.03995232\n",
      " -0.02268148  0.34856447  0.12431361  0.32604243]\n",
      "tanhh values are:  [ 1.          1.          0.          0.         -1.          1.          1.\n",
      "  0.25895892 -1.          1.          1.          1.          0.21656968\n",
      "  1.          1.          0.21656968  1.         -1.          1.          1.\n",
      "  1.          1.          0.30620224  0.52306689  0.49344215  0.49344215\n",
      "  0.19484904  0.30620224  0.52306689  0.0954491   0.07292936  0.0954491   1.\n",
      "  1.         -1.          0.37638707  1.          1.         -1.\n",
      "  0.49344215  0.59235009  1.          1.          0.52306689  0.21656968\n",
      "  0.21656968  1.          1.          0.12367716  1.          1.\n",
      "  0.32095757  1.          0.42765876 -1.          1.         -1.          1.\n",
      " -1.          0.30620224 -1.         -1.          0.30620224  0.19484904\n",
      "  1.          1.          0.21656968  0.21656968  0.21656968  1.         -1.\n",
      "  0.07932735  0.0954491   1.          1.          0.18970941  0.30620224\n",
      "  1.          0.21656968  1.          0.0954491   0.07292936  0.21656968\n",
      "  0.05675185 -1.        ]\n",
      "softmax values are:  [  5.78812941e-01   4.21187059e-01   2.07033607e-15   2.07033607e-15]\n",
      "Sigmoid values are:  [ 1.  1.  0.  0.  0.  1.  1.  1.  0.  1.  1.  1.  1.  1.  1.  1.  1.  0.\n",
      "  1.  1.  1.  1.  1.  1.  1.  1.  1.  1.  1.  1.  1.  1.  1.  1.  0.  1.\n",
      "  1.  1.  0.  1.  1.  1.  1.  1.  1.  1.  1.  1.  1.  1.  1.  1.  1.  1.\n",
      "  0.  1.  0.  1.  0.  1.  0.  0.  1.  1.  1.  1.  1.  1.  1.  1.  0.  1.\n",
      "  1.  1.  1.  1.  1.  1.  1.  1.  1.  1.  1.  1.  0.]\n"
     ]
    },
    {
     "data": {
      "image/png": "[encoded data removed]",
      "text/plain": [
       "<matplotlib.figure.Figure at 0x7f9d58d566a0>"
      ]
     },
     "metadata": {},
     "output_type": "display_data"
    }
   ],
   "source": [
    "import numpy as np\n",
    "import pandas as pd\n",
    "import matplotlib.pyplot as plt\n",
    "\n",
    "x=pd.read_csv(\"candy-data.csv\")\n",
    "x=np.asmatrix(x)\n",
    "x=np.array(x)\n",
    "N,D=np.shape(x)\n",
    "X=np.zeros((N,D-2))\n",
    "X[:,0:10]=x[:,1:11]\n",
    "Y=x[:,11]\n",
    "\n",
    "for i in range (len(X[:,9])):\n",
    "    if X[i,9]<0.45:\n",
    "        X[i,10]=0\n",
    "    elif 0.45<=X[i,9]<0.86 :\n",
    "        X[i,10]=1\n",
    "    elif X[i,9] >=0.86:\n",
    "        X[i,10]=-2\n",
    "X=np.array(X,dtype=float)\n",
    "Y=np.array(Y,dtype=float)\n",
    "X[:,10]=X[:,10]*100\n",
    "w=np.linalg.solve(np.dot(X[:,0:10].T,X[:,0:10]),np.dot(X[:,0:10].T,Y))\n",
    "X[:,[9,10]] = X[:,[10,9]]\n",
    "Y1=np.dot(X[:,:10],w)\n",
    "print(w)\n",
    "def tanh(a):\n",
    "    return (1-np.exp(-2*a))/(1+np.exp(-2*a))\n",
    "def softmax(a):\n",
    "    expa=np.exp(a)\n",
    "    return expa/expa.sum()\n",
    "def sigmod(a):\n",
    "    return (1/(1+np.exp(-a)))\n",
    "Ysi= sigmod(Y1)\n",
    "Yso = softmax(Y1)\n",
    "Ytn = tanh(Y1)\n",
    "print (\"tanhh values are: \",Ytn)\n",
    "print (\"softmax values are: \",Yso)\n",
    "print (\"Sigmoid values are: \",np.round(Ysi))\n",
    "plt.scatter(np.sort(x[:,0].T),np.sort(Ysi.T))\n",
    "plt.plot(np.sort(x[:,0].T),np.sort(Ysi.T))\n",
    "plt.show()"
   ]
  },
  {
   "cell_type": "code",
   "execution_count": null,
   "metadata": {
    "collapsed": true
   },
   "outputs": [],
   "source": []
  }
 ],
 "metadata": {
  "kernelspec": {
   "display_name": "Python 3",
   "language": "python",
   "name": "python3"
  },
  "language_info": {
   "codemirror_mode": {
    "name": "ipython",
    "version": 3
   },
   "file_extension": ".py",
   "mimetype": "text/x-python",
   "name": "python",
   "nbconvert_exporter": "python",
   "pygments_lexer": "ipython3",
   "version": "3.6.3"
  }
 },
 "nbformat": 4,
 "nbformat_minor": 2
}
